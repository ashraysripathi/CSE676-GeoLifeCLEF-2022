{
 "cells": [
  {
   "cell_type": "code",
   "execution_count": 13,
   "metadata": {},
   "outputs": [],
   "source": [
    "import numpy as np\n",
    "import pandas as pd\n",
    "from pathlib import Path\n",
    "from GLC.data_loading.common import load_patch"
   ]
  },
  {
   "cell_type": "code",
   "execution_count": 14,
   "metadata": {},
   "outputs": [
    {
     "name": "stdout",
     "output_type": "stream",
     "text": [
      "Number of observations for training: 100000\n",
      "Number of unique species: 500\n"
     ]
    }
   ],
   "source": [
    "# Load Training Data\n",
    "\n",
    "DATA_PATH = Path(\"/input/\")\n",
    "\n",
    "df_obs_fr = pd.read_csv(DATA_PATH / \"observations\" / \"observations_fr_train.csv\", sep=\";\", index_col=\"observation_id\")\n",
    "df_obs_us = pd.read_csv(DATA_PATH / \"observations\" / \"observations_us_train.csv\", sep=\";\", index_col=\"observation_id\")\n",
    "\n",
    "df_obs = pd.concat((df_obs_fr, df_obs_us))\n",
    "df_obs = df_obs[df_obs['species_id'].isin(df_obs['species_id'].value_counts()[:500].index.tolist())]\n",
    "df_obs = df_obs.sample(n=100000)\n",
    "# df_obs = df_obs.head()\n",
    "\n",
    "print(\"Number of observations for training: {}\".format(len(df_obs)))\n",
    "\n",
    "# Relabel\n",
    "\n",
    "from sklearn import preprocessing\n",
    "\n",
    "le = preprocessing.LabelEncoder()\n",
    "le.fit(df_obs.species_id)\n",
    "df_obs['species_id'] = le.transform(df_obs.species_id)\n",
    "number_of_unique_species = np.unique(df_obs['species_id']).shape[0]\n",
    "print(\"Number of unique species: \"+str(number_of_unique_species))"
   ]
  },
  {
   "cell_type": "code",
   "execution_count": 15,
   "metadata": {},
   "outputs": [],
   "source": [
    "## Save dataset\n",
    "df_obs.to_csv(DATA_PATH / 'data-subset' / 'data2100000.csv')"
   ]
  },
  {
   "cell_type": "code",
   "execution_count": 16,
   "metadata": {},
   "outputs": [
    {
     "name": "stdout",
     "output_type": "stream",
     "text": [
      "0 done\n",
      "1 done\n"
     ]
    },
    {
     "ename": "KeyboardInterrupt",
     "evalue": "",
     "output_type": "error",
     "traceback": [
      "\u001b[0;31m---------------------------------------------------------------------------\u001b[0m",
      "\u001b[0;31mKeyboardInterrupt\u001b[0m                         Traceback (most recent call last)",
      "\u001b[1;32m/Users/rupampatir/Desktop/DL Project/src/extract_patches.ipynb Cell 4'\u001b[0m in \u001b[0;36m<cell line: 4>\u001b[0;34m()\u001b[0m\n\u001b[1;32m      <a href='vscode-notebook-cell:/Users/rupampatir/Desktop/DL%20Project/src/extract_patches.ipynb#ch0000003?line=2'>3</a>\u001b[0m i\u001b[39m=\u001b[39m\u001b[39m0\u001b[39m\n\u001b[1;32m      <a href='vscode-notebook-cell:/Users/rupampatir/Desktop/DL%20Project/src/extract_patches.ipynb#ch0000003?line=3'>4</a>\u001b[0m \u001b[39mfor\u001b[39;00m row \u001b[39min\u001b[39;00m \u001b[39mrange\u001b[39m(\u001b[39mlen\u001b[39m(df_obs)):\n\u001b[0;32m----> <a href='vscode-notebook-cell:/Users/rupampatir/Desktop/DL%20Project/src/extract_patches.ipynb#ch0000003?line=4'>5</a>\u001b[0m     patch \u001b[39m=\u001b[39m load_patch(df_obs\u001b[39m.\u001b[39;49miloc[row]\u001b[39m.\u001b[39;49mname, DATA_PATH)\n\u001b[1;32m      <a href='vscode-notebook-cell:/Users/rupampatir/Desktop/DL%20Project/src/extract_patches.ipynb#ch0000003?line=5'>6</a>\u001b[0m     temp \u001b[39m=\u001b[39m np\u001b[39m.\u001b[39mdstack((patch[\u001b[39m0\u001b[39m], np\u001b[39m.\u001b[39mzeros(patch[\u001b[39m1\u001b[39m]\u001b[39m.\u001b[39mshape)))\n\u001b[1;32m      <a href='vscode-notebook-cell:/Users/rupampatir/Desktop/DL%20Project/src/extract_patches.ipynb#ch0000003?line=6'>7</a>\u001b[0m     temp[:,:,\u001b[39m3\u001b[39m] \u001b[39m=\u001b[39m patch[\u001b[39m1\u001b[39m]\n",
      "File \u001b[0;32m~/Desktop/DL Project/src/GLC/data_loading/common.py:76\u001b[0m, in \u001b[0;36mload_patch\u001b[0;34m(observation_id, patches_path, data, landcover_mapping, return_arrays)\u001b[0m\n\u001b[1;32m     <a href='file:///Users/rupampatir/Desktop/DL%20Project/src/GLC/data_loading/common.py?line=73'>74</a>\u001b[0m \u001b[39mif\u001b[39;00m \u001b[39m\"\u001b[39m\u001b[39maltitude\u001b[39m\u001b[39m\"\u001b[39m \u001b[39min\u001b[39;00m data:\n\u001b[1;32m     <a href='file:///Users/rupampatir/Desktop/DL%20Project/src/GLC/data_loading/common.py?line=74'>75</a>\u001b[0m     altitude_filename \u001b[39m=\u001b[39m filename\u001b[39m.\u001b[39mwith_name(filename\u001b[39m.\u001b[39mstem \u001b[39m+\u001b[39m \u001b[39m\"\u001b[39m\u001b[39m_altitude.tif\u001b[39m\u001b[39m\"\u001b[39m)\n\u001b[0;32m---> <a href='file:///Users/rupampatir/Desktop/DL%20Project/src/GLC/data_loading/common.py?line=75'>76</a>\u001b[0m     altitude_patch \u001b[39m=\u001b[39m tifffile\u001b[39m.\u001b[39;49mimread(altitude_filename)\n\u001b[1;32m     <a href='file:///Users/rupampatir/Desktop/DL%20Project/src/GLC/data_loading/common.py?line=76'>77</a>\u001b[0m     patches\u001b[39m.\u001b[39mappend(altitude_patch)\n\u001b[1;32m     <a href='file:///Users/rupampatir/Desktop/DL%20Project/src/GLC/data_loading/common.py?line=78'>79</a>\u001b[0m \u001b[39mif\u001b[39;00m \u001b[39m\"\u001b[39m\u001b[39mlandcover\u001b[39m\u001b[39m\"\u001b[39m \u001b[39min\u001b[39;00m data:\n",
      "File \u001b[0;32m~/.pyenv/versions/3.8.6/lib/python3.8/site-packages/tifffile/tifffile.py:973\u001b[0m, in \u001b[0;36mimread\u001b[0;34m(files, aszarr, key, series, level, squeeze, maxworkers, name, offset, size, pattern, axesorder, categories, imread, sort, container, axestiled, ioworkers, chunkmode, fillvalue, zattrs, _multifile, _useframes, **kwargs)\u001b[0m\n\u001b[1;32m    <a href='file:///Users/rupampatir/.pyenv/versions/3.8.6/lib/python3.8/site-packages/tifffile/tifffile.py?line=967'>968</a>\u001b[0m     files \u001b[39m=\u001b[39m files[\u001b[39m0\u001b[39m]\n\u001b[1;32m    <a href='file:///Users/rupampatir/.pyenv/versions/3.8.6/lib/python3.8/site-packages/tifffile/tifffile.py?line=969'>970</a>\u001b[0m \u001b[39mif\u001b[39;00m \u001b[39misinstance\u001b[39m(files, \u001b[39mstr\u001b[39m) \u001b[39mor\u001b[39;00m \u001b[39mnot\u001b[39;00m \u001b[39misinstance\u001b[39m(\n\u001b[1;32m    <a href='file:///Users/rupampatir/.pyenv/versions/3.8.6/lib/python3.8/site-packages/tifffile/tifffile.py?line=970'>971</a>\u001b[0m     files, collections\u001b[39m.\u001b[39mabc\u001b[39m.\u001b[39mSequence\n\u001b[1;32m    <a href='file:///Users/rupampatir/.pyenv/versions/3.8.6/lib/python3.8/site-packages/tifffile/tifffile.py?line=971'>972</a>\u001b[0m ):\n\u001b[0;32m--> <a href='file:///Users/rupampatir/.pyenv/versions/3.8.6/lib/python3.8/site-packages/tifffile/tifffile.py?line=972'>973</a>\u001b[0m     \u001b[39mwith\u001b[39;00m TiffFile(\n\u001b[1;32m    <a href='file:///Users/rupampatir/.pyenv/versions/3.8.6/lib/python3.8/site-packages/tifffile/tifffile.py?line=973'>974</a>\u001b[0m         files,\n\u001b[1;32m    <a href='file:///Users/rupampatir/.pyenv/versions/3.8.6/lib/python3.8/site-packages/tifffile/tifffile.py?line=974'>975</a>\u001b[0m         name\u001b[39m=\u001b[39;49mname,\n\u001b[1;32m    <a href='file:///Users/rupampatir/.pyenv/versions/3.8.6/lib/python3.8/site-packages/tifffile/tifffile.py?line=975'>976</a>\u001b[0m         offset\u001b[39m=\u001b[39;49moffset,\n\u001b[1;32m    <a href='file:///Users/rupampatir/.pyenv/versions/3.8.6/lib/python3.8/site-packages/tifffile/tifffile.py?line=976'>977</a>\u001b[0m         size\u001b[39m=\u001b[39;49msize,\n\u001b[1;32m    <a href='file:///Users/rupampatir/.pyenv/versions/3.8.6/lib/python3.8/site-packages/tifffile/tifffile.py?line=977'>978</a>\u001b[0m         _multifile\u001b[39m=\u001b[39;49m_multifile,\n\u001b[1;32m    <a href='file:///Users/rupampatir/.pyenv/versions/3.8.6/lib/python3.8/site-packages/tifffile/tifffile.py?line=978'>979</a>\u001b[0m         _useframes\u001b[39m=\u001b[39;49m_useframes,\n\u001b[1;32m    <a href='file:///Users/rupampatir/.pyenv/versions/3.8.6/lib/python3.8/site-packages/tifffile/tifffile.py?line=979'>980</a>\u001b[0m         \u001b[39m*\u001b[39;49m\u001b[39m*\u001b[39;49mis_flags,\n\u001b[1;32m    <a href='file:///Users/rupampatir/.pyenv/versions/3.8.6/lib/python3.8/site-packages/tifffile/tifffile.py?line=980'>981</a>\u001b[0m     ) \u001b[39mas\u001b[39;00m tif:\n\u001b[1;32m    <a href='file:///Users/rupampatir/.pyenv/versions/3.8.6/lib/python3.8/site-packages/tifffile/tifffile.py?line=981'>982</a>\u001b[0m         \u001b[39mif\u001b[39;00m aszarr:\n\u001b[1;32m    <a href='file:///Users/rupampatir/.pyenv/versions/3.8.6/lib/python3.8/site-packages/tifffile/tifffile.py?line=982'>983</a>\u001b[0m             \u001b[39massert\u001b[39;00m key \u001b[39mis\u001b[39;00m \u001b[39mNone\u001b[39;00m \u001b[39mor\u001b[39;00m \u001b[39misinstance\u001b[39m(key, \u001b[39mint\u001b[39m)\n",
      "File \u001b[0;32m~/.pyenv/versions/3.8.6/lib/python3.8/site-packages/tifffile/tifffile.py:3653\u001b[0m, in \u001b[0;36mTiffFile.__init__\u001b[0;34m(self, file, mode, name, offset, size, _multifile, _useframes, _parent, **kwargs)\u001b[0m\n\u001b[1;32m   <a href='file:///Users/rupampatir/.pyenv/versions/3.8.6/lib/python3.8/site-packages/tifffile/tifffile.py?line=3649'>3650</a>\u001b[0m     \u001b[39mraise\u001b[39;00m TiffFileError(\u001b[39mf\u001b[39m\u001b[39m'\u001b[39m\u001b[39minvalid TIFF version \u001b[39m\u001b[39m{\u001b[39;00mversion\u001b[39m}\u001b[39;00m\u001b[39m'\u001b[39m)\n\u001b[1;32m   <a href='file:///Users/rupampatir/.pyenv/versions/3.8.6/lib/python3.8/site-packages/tifffile/tifffile.py?line=3651'>3652</a>\u001b[0m \u001b[39m# file handle is at offset to offset to first page\u001b[39;00m\n\u001b[0;32m-> <a href='file:///Users/rupampatir/.pyenv/versions/3.8.6/lib/python3.8/site-packages/tifffile/tifffile.py?line=3652'>3653</a>\u001b[0m \u001b[39mself\u001b[39m\u001b[39m.\u001b[39mpages \u001b[39m=\u001b[39m TiffPages(\u001b[39mself\u001b[39;49m)\n\u001b[1;32m   <a href='file:///Users/rupampatir/.pyenv/versions/3.8.6/lib/python3.8/site-packages/tifffile/tifffile.py?line=3654'>3655</a>\u001b[0m \u001b[39mif\u001b[39;00m \u001b[39mself\u001b[39m\u001b[39m.\u001b[39mis_lsm \u001b[39mand\u001b[39;00m (\n\u001b[1;32m   <a href='file:///Users/rupampatir/.pyenv/versions/3.8.6/lib/python3.8/site-packages/tifffile/tifffile.py?line=3655'>3656</a>\u001b[0m     \u001b[39mself\u001b[39m\u001b[39m.\u001b[39mfilehandle\u001b[39m.\u001b[39msize \u001b[39m>\u001b[39m\u001b[39m=\u001b[39m \u001b[39m2\u001b[39m\u001b[39m*\u001b[39m\u001b[39m*\u001b[39m\u001b[39m32\u001b[39m\n\u001b[1;32m   <a href='file:///Users/rupampatir/.pyenv/versions/3.8.6/lib/python3.8/site-packages/tifffile/tifffile.py?line=3656'>3657</a>\u001b[0m     \u001b[39mor\u001b[39;00m \u001b[39mself\u001b[39m\u001b[39m.\u001b[39mpages[\u001b[39m0\u001b[39m]\u001b[39m.\u001b[39mcompression \u001b[39m!=\u001b[39m \u001b[39m1\u001b[39m\n\u001b[1;32m   <a href='file:///Users/rupampatir/.pyenv/versions/3.8.6/lib/python3.8/site-packages/tifffile/tifffile.py?line=3657'>3658</a>\u001b[0m     \u001b[39mor\u001b[39;00m \u001b[39mself\u001b[39m\u001b[39m.\u001b[39mpages[\u001b[39m1\u001b[39m]\u001b[39m.\u001b[39mcompression \u001b[39m!=\u001b[39m \u001b[39m1\u001b[39m\n\u001b[1;32m   <a href='file:///Users/rupampatir/.pyenv/versions/3.8.6/lib/python3.8/site-packages/tifffile/tifffile.py?line=3658'>3659</a>\u001b[0m ):\n\u001b[1;32m   <a href='file:///Users/rupampatir/.pyenv/versions/3.8.6/lib/python3.8/site-packages/tifffile/tifffile.py?line=3659'>3660</a>\u001b[0m     \u001b[39mself\u001b[39m\u001b[39m.\u001b[39m_lsm_load_pages()\n",
      "File \u001b[0;32m~/.pyenv/versions/3.8.6/lib/python3.8/site-packages/tifffile/tifffile.py:6041\u001b[0m, in \u001b[0;36mTiffPages.__init__\u001b[0;34m(self, arg, index)\u001b[0m\n\u001b[1;32m   <a href='file:///Users/rupampatir/.pyenv/versions/3.8.6/lib/python3.8/site-packages/tifffile/tifffile.py?line=6038'>6039</a>\u001b[0m \u001b[39m# read and cache first page\u001b[39;00m\n\u001b[1;32m   <a href='file:///Users/rupampatir/.pyenv/versions/3.8.6/lib/python3.8/site-packages/tifffile/tifffile.py?line=6039'>6040</a>\u001b[0m fh\u001b[39m.\u001b[39mseek(offset)\n\u001b[0;32m-> <a href='file:///Users/rupampatir/.pyenv/versions/3.8.6/lib/python3.8/site-packages/tifffile/tifffile.py?line=6040'>6041</a>\u001b[0m page \u001b[39m=\u001b[39m TiffPage(\u001b[39mself\u001b[39;49m\u001b[39m.\u001b[39;49mparent, index\u001b[39m=\u001b[39;49mpageindex)\n\u001b[1;32m   <a href='file:///Users/rupampatir/.pyenv/versions/3.8.6/lib/python3.8/site-packages/tifffile/tifffile.py?line=6041'>6042</a>\u001b[0m \u001b[39mself\u001b[39m\u001b[39m.\u001b[39mpages\u001b[39m.\u001b[39mappend(page)\n\u001b[1;32m   <a href='file:///Users/rupampatir/.pyenv/versions/3.8.6/lib/python3.8/site-packages/tifffile/tifffile.py?line=6042'>6043</a>\u001b[0m \u001b[39mself\u001b[39m\u001b[39m.\u001b[39m_keyframe \u001b[39m=\u001b[39m page\n",
      "File \u001b[0;32m~/.pyenv/versions/3.8.6/lib/python3.8/site-packages/tifffile/tifffile.py:6618\u001b[0m, in \u001b[0;36mTiffPage.__init__\u001b[0;34m(self, parent, index, keyframe)\u001b[0m\n\u001b[1;32m   <a href='file:///Users/rupampatir/.pyenv/versions/3.8.6/lib/python3.8/site-packages/tifffile/tifffile.py?line=6615'>6616</a>\u001b[0m tagdata \u001b[39m=\u001b[39m data[tagindex : tagindex \u001b[39m+\u001b[39m tagsize]\n\u001b[1;32m   <a href='file:///Users/rupampatir/.pyenv/versions/3.8.6/lib/python3.8/site-packages/tifffile/tifffile.py?line=6616'>6617</a>\u001b[0m \u001b[39mtry\u001b[39;00m:\n\u001b[0;32m-> <a href='file:///Users/rupampatir/.pyenv/versions/3.8.6/lib/python3.8/site-packages/tifffile/tifffile.py?line=6617'>6618</a>\u001b[0m     tag \u001b[39m=\u001b[39m TiffTag\u001b[39m.\u001b[39;49mfromfile(\n\u001b[1;32m   <a href='file:///Users/rupampatir/.pyenv/versions/3.8.6/lib/python3.8/site-packages/tifffile/tifffile.py?line=6618'>6619</a>\u001b[0m         parent, offset\u001b[39m=\u001b[39;49mtagoffset \u001b[39m+\u001b[39;49m i \u001b[39m*\u001b[39;49m tagsize_, header\u001b[39m=\u001b[39;49mtagdata\n\u001b[1;32m   <a href='file:///Users/rupampatir/.pyenv/versions/3.8.6/lib/python3.8/site-packages/tifffile/tifffile.py?line=6619'>6620</a>\u001b[0m     )\n\u001b[1;32m   <a href='file:///Users/rupampatir/.pyenv/versions/3.8.6/lib/python3.8/site-packages/tifffile/tifffile.py?line=6620'>6621</a>\u001b[0m \u001b[39mexcept\u001b[39;00m TiffFileError \u001b[39mas\u001b[39;00m exc:\n\u001b[1;32m   <a href='file:///Users/rupampatir/.pyenv/versions/3.8.6/lib/python3.8/site-packages/tifffile/tifffile.py?line=6621'>6622</a>\u001b[0m     log_warning(\u001b[39mf\u001b[39m\u001b[39m'\u001b[39m\u001b[39m{\u001b[39;00m\u001b[39mself\u001b[39m\u001b[39m!r}\u001b[39;00m\u001b[39m \u001b[39m\u001b[39m{\u001b[39;00mexc\u001b[39m}\u001b[39;00m\u001b[39m'\u001b[39m)\n",
      "File \u001b[0;32m~/.pyenv/versions/3.8.6/lib/python3.8/site-packages/tifffile/tifffile.py:9034\u001b[0m, in \u001b[0;36mTiffTag.fromfile\u001b[0;34m(cls, parent, offset, header, validate)\u001b[0m\n\u001b[1;32m   <a href='file:///Users/rupampatir/.pyenv/versions/3.8.6/lib/python3.8/site-packages/tifffile/tifffile.py?line=9030'>9031</a>\u001b[0m     value \u001b[39m=\u001b[39m struct\u001b[39m.\u001b[39munpack(\u001b[39m'\u001b[39m\u001b[39m<Q\u001b[39m\u001b[39m'\u001b[39m, value)\n\u001b[1;32m   <a href='file:///Users/rupampatir/.pyenv/versions/3.8.6/lib/python3.8/site-packages/tifffile/tifffile.py?line=9031'>9032</a>\u001b[0m \u001b[39melse\u001b[39;00m:\n\u001b[1;32m   <a href='file:///Users/rupampatir/.pyenv/versions/3.8.6/lib/python3.8/site-packages/tifffile/tifffile.py?line=9032'>9033</a>\u001b[0m     fmt \u001b[39m=\u001b[39m \u001b[39m'\u001b[39m\u001b[39m{}\u001b[39;00m\u001b[39m{}\u001b[39;00m\u001b[39m{}\u001b[39;00m\u001b[39m'\u001b[39m\u001b[39m.\u001b[39mformat(\n\u001b[0;32m-> <a href='file:///Users/rupampatir/.pyenv/versions/3.8.6/lib/python3.8/site-packages/tifffile/tifffile.py?line=9033'>9034</a>\u001b[0m         tiff\u001b[39m.\u001b[39mbyteorder, count \u001b[39m*\u001b[39m \u001b[39mint\u001b[39;49m(valueformat[\u001b[39m0\u001b[39;49m]), valueformat[\u001b[39m1\u001b[39m]\n\u001b[1;32m   <a href='file:///Users/rupampatir/.pyenv/versions/3.8.6/lib/python3.8/site-packages/tifffile/tifffile.py?line=9034'>9035</a>\u001b[0m     )\n\u001b[1;32m   <a href='file:///Users/rupampatir/.pyenv/versions/3.8.6/lib/python3.8/site-packages/tifffile/tifffile.py?line=9035'>9036</a>\u001b[0m     value \u001b[39m=\u001b[39m struct\u001b[39m.\u001b[39munpack(fmt, value[:valuesize])\n\u001b[1;32m   <a href='file:///Users/rupampatir/.pyenv/versions/3.8.6/lib/python3.8/site-packages/tifffile/tifffile.py?line=9037'>9038</a>\u001b[0m value \u001b[39m=\u001b[39m TiffTag\u001b[39m.\u001b[39m_process_value(value, code, dtype, offset)\n",
      "\u001b[0;31mKeyboardInterrupt\u001b[0m: "
     ]
    }
   ],
   "source": [
    "## Save patches\n",
    "patches = []\n",
    "i=0\n",
    "for row in range(len(df_obs)):\n",
    "    patch = load_patch(df_obs.iloc[row].name, DATA_PATH)\n",
    "    temp = np.dstack((patch[0], np.zeros(patch[1].shape)))\n",
    "    temp[:,:,3] = patch[1]\n",
    "    temp = np.dstack((temp, np.zeros(patch[2].shape)))\n",
    "    temp[:,:,4] = patch[2]\n",
    "    temp = np.dstack((temp, np.zeros(patch[3].shape)))\n",
    "    temp[:,:,5] = patch[3]\n",
    "    patches.append(temp)\n",
    "    if (len(patches)%1000==0):\n",
    "        print(str(i)+\" done\")\n",
    "        patches = np.array(patches)\n",
    "        path = 'data-subset/patches/patches1002000-'+str(i)\n",
    "        np.savez_compressed(DATA_PATH/path,patches)\n",
    "        i+=1\n",
    "        patches=[]\n"
   ]
  },
  {
   "cell_type": "markdown",
   "metadata": {},
   "source": []
  }
 ],
 "metadata": {
  "interpreter": {
   "hash": "1b8f358851a621c03a6008837c1c19aaa4f5e5b2678e43edd52d45294f093f9f"
  },
  "kernelspec": {
   "display_name": "Python 3.8.6 64-bit ('3.8.6')",
   "language": "python",
   "name": "python3"
  },
  "language_info": {
   "codemirror_mode": {
    "name": "ipython",
    "version": 3
   },
   "file_extension": ".py",
   "mimetype": "text/x-python",
   "name": "python",
   "nbconvert_exporter": "python",
   "pygments_lexer": "ipython3",
   "version": "3.8.6"
  }
 },
 "nbformat": 4,
 "nbformat_minor": 2
}
